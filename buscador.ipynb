{
 "cells": [
  {
   "cell_type": "markdown",
   "metadata": {},
   "source": [
    "# Buscador de sonidos con la api de freesound\n",
    "\n",
    "A traves del cliente escrito en python para freesound se puede hacer una busqueda y descarga automatizada de los sonidos por tags o por descriptores en la base de datos de freesound. este primer ejemplo es una busqueda por tags de los usuarios que han subido los audios. \n",
    "\n",
    "Se debe primero obtener una clave de autenticación para comunicarse con el servidor de freesounds y poder hacer las peticiones de busqueda.\n",
    "\n",
    "<img src=\"freesound.png\">"
   ]
  },
  {
   "cell_type": "code",
   "execution_count": 4,
   "metadata": {
    "collapsed": false
   },
   "outputs": [
    {
     "name": "stdout",
     "output_type": "stream",
     "text": [
      "Ingrese la primera palabra: cat\n",
      "Ingrese la segunda palabra: dog\n",
      "Ingrese la tercera palabra: snake\n",
      "Ingrese la cuarta palabra: storm\n",
      "0\n",
      "1\n",
      "2\n",
      "3\n",
      "4\n",
      "5\n",
      "6\n",
      "7\n",
      "8\n",
      "9\n",
      "10\n",
      "11\n",
      "12\n",
      "13\n",
      "14\n",
      "15\n"
     ]
    },
    {
     "ename": "IndexError",
     "evalue": "list index out of range",
     "output_type": "error",
     "traceback": [
      "\u001b[0;31m---------------------------------------------------------------------------\u001b[0m",
      "\u001b[0;31mIndexError\u001b[0m                                Traceback (most recent call last)",
      "\u001b[0;32m<ipython-input-4-b4cc18421e62>\u001b[0m in \u001b[0;36m<module>\u001b[0;34m()\u001b[0m\n\u001b[1;32m     57\u001b[0m \u001b[0;32mfor\u001b[0m \u001b[0ml\u001b[0m \u001b[0;32min\u001b[0m \u001b[0mrange\u001b[0m\u001b[0;34m(\u001b[0m\u001b[0;36m15\u001b[0m\u001b[0;34m,\u001b[0m\u001b[0;36m20\u001b[0m\u001b[0;34m)\u001b[0m\u001b[0;34m:\u001b[0m\u001b[0;34m\u001b[0m\u001b[0m\n\u001b[1;32m     58\u001b[0m     \u001b[0;32mprint\u001b[0m \u001b[0ml\u001b[0m\u001b[0;34m\u001b[0m\u001b[0m\n\u001b[0;32m---> 59\u001b[0;31m     \u001b[0mresultsw4\u001b[0m\u001b[0;34m[\u001b[0m\u001b[0ml\u001b[0m\u001b[0;34m]\u001b[0m\u001b[0;34m.\u001b[0m\u001b[0mretrieve_preview\u001b[0m\u001b[0;34m(\u001b[0m\u001b[0;34m\".\"\u001b[0m\u001b[0;34m,\u001b[0m\u001b[0mresultsw4\u001b[0m\u001b[0;34m[\u001b[0m\u001b[0ml\u001b[0m\u001b[0;34m]\u001b[0m\u001b[0;34m.\u001b[0m\u001b[0mname\u001b[0m \u001b[0;34m+\u001b[0m \u001b[0;34m\".mp3\"\u001b[0m\u001b[0;34m)\u001b[0m\u001b[0;34m\u001b[0m\u001b[0m\n\u001b[0m\u001b[1;32m     60\u001b[0m     \u001b[0msound\u001b[0m \u001b[0;34m=\u001b[0m \u001b[0mAudioSegment\u001b[0m\u001b[0;34m.\u001b[0m\u001b[0mfrom_mp3\u001b[0m\u001b[0;34m(\u001b[0m\u001b[0mresultsw4\u001b[0m\u001b[0;34m[\u001b[0m\u001b[0ml\u001b[0m\u001b[0;34m]\u001b[0m\u001b[0;34m.\u001b[0m\u001b[0mname\u001b[0m \u001b[0;34m+\u001b[0m \u001b[0;34m\".mp3\"\u001b[0m\u001b[0;34m)\u001b[0m\u001b[0;34m\u001b[0m\u001b[0m\n\u001b[1;32m     61\u001b[0m     \u001b[0msound\u001b[0m\u001b[0;34m.\u001b[0m\u001b[0mexport\u001b[0m\u001b[0;34m(\u001b[0m\u001b[0mpath\u001b[0m \u001b[0;34m+\u001b[0m \u001b[0;34m\"/\"\u001b[0m \u001b[0;34m+\u001b[0m \u001b[0mword4\u001b[0m \u001b[0;34m+\u001b[0m \u001b[0mstr\u001b[0m\u001b[0;34m(\u001b[0m\u001b[0mi\u001b[0m\u001b[0;34m)\u001b[0m \u001b[0;34m+\u001b[0m\u001b[0;34m\".wav\"\u001b[0m\u001b[0;34m,\u001b[0m \u001b[0mformat\u001b[0m\u001b[0;34m=\u001b[0m\u001b[0;34m\"wav\"\u001b[0m\u001b[0;34m)\u001b[0m\u001b[0;34m\u001b[0m\u001b[0m\n",
      "\u001b[0;32m/home/aaccol/freesound-python/freesound.pyc\u001b[0m in \u001b[0;36m__getitem__\u001b[0;34m(self, key)\u001b[0m\n\u001b[1;32m    269\u001b[0m     \"\"\"\n\u001b[1;32m    270\u001b[0m     \u001b[0;32mdef\u001b[0m \u001b[0m__getitem__\u001b[0m\u001b[0;34m(\u001b[0m\u001b[0mself\u001b[0m\u001b[0;34m,\u001b[0m \u001b[0mkey\u001b[0m\u001b[0;34m)\u001b[0m\u001b[0;34m:\u001b[0m\u001b[0;34m\u001b[0m\u001b[0m\n\u001b[0;32m--> 271\u001b[0;31m         \u001b[0;32mreturn\u001b[0m \u001b[0mSound\u001b[0m\u001b[0;34m(\u001b[0m\u001b[0mself\u001b[0m\u001b[0;34m.\u001b[0m\u001b[0mresults\u001b[0m\u001b[0;34m[\u001b[0m\u001b[0mkey\u001b[0m\u001b[0;34m]\u001b[0m\u001b[0;34m,\u001b[0m \u001b[0mself\u001b[0m\u001b[0;34m.\u001b[0m\u001b[0mclient\u001b[0m\u001b[0;34m)\u001b[0m\u001b[0;34m\u001b[0m\u001b[0m\n\u001b[0m\u001b[1;32m    272\u001b[0m \u001b[0;34m\u001b[0m\u001b[0m\n\u001b[1;32m    273\u001b[0m     \u001b[0;32mdef\u001b[0m \u001b[0mnext_page\u001b[0m\u001b[0;34m(\u001b[0m\u001b[0mself\u001b[0m\u001b[0;34m)\u001b[0m\u001b[0;34m:\u001b[0m\u001b[0;34m\u001b[0m\u001b[0m\n",
      "\u001b[0;31mIndexError\u001b[0m: list index out of range"
     ]
    }
   ],
   "source": [
    "import freesound, sys,os\n",
    "from pydub import AudioSegment\n",
    "\n",
    "\n",
    "\n",
    "#send message to pd\n",
    "def send2pd(message):\n",
    "    os.system(\"echo '\" + message + \"'  |  pdsend 3000\")\n",
    "    \n",
    "    \n",
    "word1 = raw_input('Ingrese la primera palabra: ')\n",
    "word2 = raw_input('Ingrese la segunda palabra: ')\n",
    "word3 = raw_input('Ingrese la tercera palabra: ')\n",
    "word4 = raw_input('Ingrese la cuarta palabra: ')\n",
    "\n",
    "#get current workig directory\n",
    "path = os.getcwd()\n",
    "client = freesound.FreesoundClient()\n",
    "# set freesound api token\n",
    "client.set_token(\"WwVsqd9CKfUpXH49NRuEo9Ky0jlz97EMI7QYUO6Y\",\"token\")\n",
    "#query freesound by user tag\n",
    "resultsw1 = client.text_search(query=word1,fields=\"id,name,previews\")\n",
    "resultsw2 = client.text_search(query=word2,fields=\"id,name,previews\")\n",
    "resultsw3 = client.text_search(query=word3,fields=\"id,name,previews\")\n",
    "resultsw4 = client.text_search(query=word4,fields=\"id,name,previews\") \n",
    "\n",
    "\n",
    "#iterate over sounds in results for five sounds in word1\n",
    "for i in range(5):\n",
    "    print i\n",
    "    resultsw1[i].retrieve_preview(\".\",resultsw1[i].name + \".mp3\")\n",
    "    sound = AudioSegment.from_mp3(resultsw1[i].name + \".mp3\")\n",
    "    #convert to .wav as pure data reads ony .wav or .ogg\n",
    "    sound.export(path + \"/\" + word1 + str(i) +\".wav\", format=\"wav\")\n",
    "    message = str(i) + ' symbol ' + path + '/' + word1 + str(i) +'.wav' + ';'\n",
    "    send2pd(message)\n",
    "    \n",
    "#iterate over sounds in results for five sounds in word2    \n",
    "for j in range(5,10):\n",
    "    print j\n",
    "    resultsw2[j].retrieve_preview(\".\",resultsw2[j].name + \".mp3\")\n",
    "    sound = AudioSegment.from_mp3(resultsw2[j].name + \".mp3\")\n",
    "    sound.export(path + \"/\" + word2 + str(i) +\".wav\", format=\"wav\")\n",
    "    message = str(j) + ' symbol ' + path + '/' + word2 + str(j) +'.wav' + ';'\n",
    "    send2pd(message)\n",
    "\n",
    "#iterate over sounds in results for five sounds in word3\n",
    "for k in range(10,15):\n",
    "    print k\n",
    "    resultsw3[k].retrieve_preview(\".\",resultsw3[k].name + \".mp3\")\n",
    "    sound = AudioSegment.from_mp3(resultsw3[k].name + \".mp3\")\n",
    "    sound.export(path + \"/\" + word3 + str(i) +\".wav\", format=\"wav\")\n",
    "    message = str(k) + ' symbol ' + path + '/' + word3 + str(k) +'.wav' + ';'\n",
    "    send2pd(message)\n",
    "\n",
    "#iterate over sounds in results for five sounds in word4\n",
    "for l in range(15,20):\n",
    "    print l\n",
    "    resultsw4[l].retrieve_preview(\".\",resultsw4[l].name + \".mp3\")\n",
    "    sound = AudioSegment.from_mp3(resultsw4[l].name + \".mp3\")\n",
    "    sound.export(path + \"/\" + word4 + str(i) +\".wav\", format=\"wav\")\n",
    "    message = str(l) + ' symbol ' + path + '/' + word4 + str(l) +'.wav' + ';'\n",
    "    send2pd(message)"
   ]
  },
  {
   "cell_type": "code",
   "execution_count": null,
   "metadata": {
    "collapsed": true
   },
   "outputs": [],
   "source": []
  },
  {
   "cell_type": "code",
   "execution_count": null,
   "metadata": {
    "collapsed": true
   },
   "outputs": [],
   "source": []
  },
  {
   "cell_type": "code",
   "execution_count": null,
   "metadata": {
    "collapsed": true
   },
   "outputs": [],
   "source": []
  }
 ],
 "metadata": {
  "kernelspec": {
   "display_name": "Python 2",
   "language": "python",
   "name": "python2"
  },
  "language_info": {
   "codemirror_mode": {
    "name": "ipython",
    "version": 2
   },
   "file_extension": ".py",
   "mimetype": "text/x-python",
   "name": "python",
   "nbconvert_exporter": "python",
   "pygments_lexer": "ipython2",
   "version": "2.7.6"
  }
 },
 "nbformat": 4,
 "nbformat_minor": 1
}
