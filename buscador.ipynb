{
 "cells": [
  {
   "cell_type": "markdown",
   "metadata": {},
   "source": [
    "# Buscador de sonidos con la api de freesound\n",
    "\n",
    "A traves del cliente escrito en python para freesound se puede hacer una busqueda y descarga automatizada de los sonidos por tags o por descriptores en la base de datos de freesound. este primer ejemplo es una busqueda por tags de los usuarios que han subido los audios. \n",
    "\n",
    "Se debe primero obtener una clave de autenticación para comunicarse con el servidor de freesounds y poder hacer las peticiones de busqueda.\n",
    "\n",
    "<img src=[freesound.png](https://postimg.org/image/yfgay8rp7/)>"
   ]
  },
  {
   "cell_type": "code",
   "execution_count": 9,
   "metadata": {
    "collapsed": false
   },
   "outputs": [
    {
     "name": "stdout",
     "output_type": "stream",
     "text": [
      "Type First word: fire\n",
      "Type Second word: forest\n",
      "Type Third word: scream\n",
      "Type Fourth word: rain\n",
      "0 symbol /home/aaccol/freesound-python/fire0.wav;\n",
      "1 symbol /home/aaccol/freesound-python/fire1.wav;\n",
      "2 symbol /home/aaccol/freesound-python/fire2.wav;\n",
      "3 symbol /home/aaccol/freesound-python/fire3.wav;\n",
      "4 symbol /home/aaccol/freesound-python/fire4.wav;\n",
      "5 symbol /home/aaccol/freesound-python/forest5.wav;\n",
      "6 symbol /home/aaccol/freesound-python/forest6.wav;\n",
      "7 symbol /home/aaccol/freesound-python/forest7.wav;\n",
      "8 symbol /home/aaccol/freesound-python/forest8.wav;\n",
      "9 symbol /home/aaccol/freesound-python/forest9.wav;\n",
      "10 symbol /home/aaccol/freesound-python/scream10.wav;\n",
      "11 symbol /home/aaccol/freesound-python/scream11.wav;\n",
      "12 symbol /home/aaccol/freesound-python/scream12.wav;\n",
      "13 symbol /home/aaccol/freesound-python/scream13.wav;\n",
      "14 symbol /home/aaccol/freesound-python/scream14.wav;\n",
      "15 symbol /home/aaccol/freesound-python/rain10.wav;\n",
      "16 symbol /home/aaccol/freesound-python/rain11.wav;\n",
      "17 symbol /home/aaccol/freesound-python/rain12.wav;\n",
      "18 symbol /home/aaccol/freesound-python/rain13.wav;\n",
      "19 symbol /home/aaccol/freesound-python/rain14.wav;\n"
     ]
    }
   ],
   "source": [
    "import freesound, sys,os\n",
    "from pydub import AudioSegment\n",
    "\n",
    "\n",
    "\n",
    "#send message to pd\n",
    "def send2pd(message):\n",
    "    os.system(\"echo '\" + message + \"'  |  pdsend 3000\")\n",
    "    \n",
    "    \n",
    "word1 = raw_input('Type First word: ')\n",
    "word2 = raw_input('Type Second word: ')\n",
    "word3 = raw_input('Type Third word: ')\n",
    "word4 = raw_input('Type Fourth word: ')\n",
    "\n",
    "#get current workig directory\n",
    "path = os.getcwd()\n",
    "client = freesound.FreesoundClient()\n",
    "# set freesound api token\n",
    "client.set_token(\"WwVsqd9CKfUpXH49NRuEo9Ky0jlz97EMI7QYUO6Y\",\"token\")\n",
    "#query freesound by user tag\n",
    "resultsw1 = client.text_search(query=word1,fields=\"id,name,previews\")\n",
    "resultsw2 = client.text_search(query=word2,fields=\"id,name,previews\")\n",
    "resultsw3 = client.text_search(query=word3,fields=\"id,name,previews\")\n",
    "resultsw4 = client.text_search(query=word4,fields=\"id,name,previews\") \n",
    "\n",
    "\n",
    "#iterate over sounds in results for five sounds in word1\n",
    "for i in range(5):\n",
    "    resultsw1[i].retrieve_preview(\".\",resultsw1[i].name + \".mp3\")\n",
    "    sound = AudioSegment.from_mp3(resultsw1[i].name + \".mp3\")\n",
    "    #convert to .wav as pure data reads ony .wav or .ogg\n",
    "    sound.export(path + \"/\" + word1 + str(i) +\".wav\", format=\"wav\")\n",
    "    message = str(i) + ' symbol ' + path + '/' + word1 + str(i) +'.wav' + ';'\n",
    "    send2pd(message)\n",
    "    print message\n",
    "\n",
    "    \n",
    "#iterate over sounds in results for five sounds in word2    \n",
    "for j in range(5,10):\n",
    "    resultsw2[j].retrieve_preview(\".\",resultsw2[j].name + \".mp3\")\n",
    "    sound = AudioSegment.from_mp3(resultsw2[j].name + \".mp3\")\n",
    "    sound.export(path + \"/\" + word2 + str(i) +\".wav\", format=\"wav\")\n",
    "    message = str(j) + ' symbol ' + path + '/' + word2 + str(j) +'.wav' + ';'\n",
    "    send2pd(message)\n",
    "    print message\n",
    "\n",
    "    \n",
    "#iterate over sounds in results for five sounds in word3\n",
    "for k in range(10,15):\n",
    "    resultsw3[k].retrieve_preview(\".\",resultsw3[k].name + \".mp3\")\n",
    "    sound = AudioSegment.from_mp3(resultsw3[k].name + \".mp3\")\n",
    "    sound.export(path + \"/\" + word3 + str(i) +\".wav\", format=\"wav\")\n",
    "    message = str(k) + ' symbol ' + path + '/' + word3 + str(k) +'.wav' + ';'\n",
    "    send2pd(message)\n",
    "    print message\n",
    "\n",
    "    \n",
    "#iterate over sounds in results for five sounds in word4\n",
    "for l in range(10,15):\n",
    "    resultsw4[l].retrieve_preview(\".\",resultsw4[l].name + \".mp3\")\n",
    "    sound = AudioSegment.from_mp3(resultsw4[l].name + \".mp3\")\n",
    "    sound.export(path + \"/\" + word4 + str(i) +\".wav\", format=\"wav\")\n",
    "    message = str(l+5) + ' symbol ' + path + '/' + word4 + str(l) +'.wav' + ';'\n",
    "    send2pd(message)\n",
    "    print message"
   ]
  },
  {
   "cell_type": "code",
   "execution_count": null,
   "metadata": {
    "collapsed": true
   },
   "outputs": [],
   "source": []
  },
  {
   "cell_type": "code",
   "execution_count": null,
   "metadata": {
    "collapsed": true
   },
   "outputs": [],
   "source": []
  }
 ],
 "metadata": {
  "kernelspec": {
   "display_name": "Python 2",
   "language": "python",
   "name": "python2"
  },
  "language_info": {
   "codemirror_mode": {
    "name": "ipython",
    "version": 2
   },
   "file_extension": ".py",
   "mimetype": "text/x-python",
   "name": "python",
   "nbconvert_exporter": "python",
   "pygments_lexer": "ipython2",
   "version": "2.7.6"
  }
 },
 "nbformat": 4,
 "nbformat_minor": 1
}
